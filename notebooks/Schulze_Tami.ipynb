{
 "cells": [
  {
   "cell_type": "code",
   "execution_count": 10,
   "id": "a1295455",
   "metadata": {},
   "outputs": [],
   "source": [
    "from calculus_core.aoki_velloso import (\n",
    "    aoki_velloso_1975,\n",
    "    aoki_velloso_1975_laprovitera_1988,\n",
    ")\n",
    "from calculus_core.decourt_quaresma import decort_quaresma_1978_revisado\n",
    "from calculus_core.models import Estaca, PerfilSPT\n",
    "\n",
    "estaca = Estaca(\n",
    "    tipo='escavada',\n",
    "    processo_construcao='escavada',\n",
    "    formato='circular',\n",
    "    secao_transversal=0.25,\n",
    "    cota_assentamento=5,\n",
    ")\n",
    "\n",
    "perfil_spt = PerfilSPT(nome_sondagem='Schulze_Tami', confiavel=True)\n",
    "\n",
    "camadas = [\n",
    "    (1, 3, 'argila_siltosa'),\n",
    "    (2, 3, 'argila_siltosa'),\n",
    "    (3, 6, 'argila_siltosa'),\n",
    "    (4, 6, 'argila_siltosa'),\n",
    "    (5, 6, 'argila_siltosa'),\n",
    "    (6, 6, 'argila_siltosa'),\n",
    "    (7, 6, 'argila_siltosa'),\n",
    "    (8, 6, 'argila_siltosa'),\n",
    "    (9, 20, 'silte_argilo_arenoso'),\n",
    "]\n",
    "\n",
    "perfil_spt.adicionar_medidas(camadas)"
   ]
  },
  {
   "cell_type": "code",
   "execution_count": 11,
   "id": "afeaf1b5",
   "metadata": {},
   "outputs": [
    {
     "name": "stdout",
     "output_type": "stream",
     "text": [
      "{'resistencia_ponta': 21.59844949342983, 'resistencia_lateral': 24.190263432641405, 'capacidade_carga': 45.788712926071234, 'capacidade_carga_adm': 22.894356463035617}\n"
     ]
    }
   ],
   "source": [
    "resultado_aoki_velloso_1975 = aoki_velloso_1975.calcular(\n",
    "    perfil_spt=perfil_spt, estaca=estaca\n",
    ")\n",
    "print(resultado_aoki_velloso_1975)"
   ]
  },
  {
   "cell_type": "code",
   "execution_count": 12,
   "id": "9ea02149",
   "metadata": {},
   "outputs": [
    {
     "name": "stdout",
     "output_type": "stream",
     "text": [
      "{'resistencia_ponta': 16.36246173744684, 'resistencia_lateral': 50.396382151336255, 'capacidade_carga': 66.75884388878309, 'capacidade_carga_adm': 33.379421944391545}\n"
     ]
    }
   ],
   "source": [
    "resultado_aoki_velloso_1975_laprovitera_1988 = (\n",
    "    aoki_velloso_1975_laprovitera_1988.calcular(\n",
    "        perfil_spt=perfil_spt, estaca=estaca\n",
    "    )\n",
    ")\n",
    "print(resultado_aoki_velloso_1975_laprovitera_1988)"
   ]
  },
  {
   "cell_type": "code",
   "execution_count": 13,
   "id": "9cd330a9",
   "metadata": {},
   "outputs": [
    {
     "name": "stdout",
     "output_type": "stream",
     "text": [
      "{'resistencia_ponta': 25.034566458293664, 'resistencia_lateral': 67.02064327658226, 'capacidade_carga': 92.05520973487593, 'capacidade_carga_adm': 46.027604867437965}\n"
     ]
    }
   ],
   "source": [
    "resultado_decourt_quaresma_1978_revisado = (\n",
    "    decort_quaresma_1978_revisado.calcular(\n",
    "        perfil_spt=perfil_spt, estaca=estaca\n",
    "    )\n",
    ")\n",
    "print(resultado_decourt_quaresma_1978_revisado)"
   ]
  },
  {
   "cell_type": "code",
   "execution_count": 14,
   "id": "d6b21f6a",
   "metadata": {},
   "outputs": [
    {
     "data": {
      "text/plain": [
       "[{'cota': 1,\n",
       "  'resistencia_ponta': 16.689710972195776,\n",
       "  'resistencia_lateral': 0,\n",
       "  'capacidade_carga': 16.689710972195776,\n",
       "  'capacidade_carga_adm': 4.172427743048944},\n",
       " {'cota': 2,\n",
       "  'resistencia_ponta': 20.86213871524472,\n",
       "  'resistencia_lateral': 6.283185307179586,\n",
       "  'capacidade_carga': 27.145324022424305,\n",
       "  'capacidade_carga_adm': 10.0487541458724},\n",
       " {'cota': 3,\n",
       "  'resistencia_ponta': 25.034566458293664,\n",
       "  'resistencia_lateral': 25.132741228718345,\n",
       "  'capacidade_carga': 50.16730768701201,\n",
       "  'capacidade_carga_adm': 25.083653843506006},\n",
       " {'cota': 4,\n",
       "  'resistencia_ponta': 25.034566458293664,\n",
       "  'resistencia_lateral': 47.12388980384689,\n",
       "  'capacidade_carga': 72.15845626214056,\n",
       "  'capacidade_carga_adm': 36.07922813107028},\n",
       " {'cota': 5,\n",
       "  'resistencia_ponta': 25.034566458293664,\n",
       "  'resistencia_lateral': 67.02064327658226,\n",
       "  'capacidade_carga': 92.05520973487593,\n",
       "  'capacidade_carga_adm': 46.027604867437965},\n",
       " {'cota': 6,\n",
       "  'resistencia_ponta': 25.034566458293664,\n",
       "  'resistencia_lateral': 86.3937979737193,\n",
       "  'capacidade_carga': 111.42836443201297,\n",
       "  'capacidade_carga_adm': 55.714182216006485},\n",
       " {'cota': 7,\n",
       "  'resistencia_ponta': 44.5058959258554,\n",
       "  'resistencia_lateral': 105.55751316061705,\n",
       "  'capacidade_carga': 150.06340908647246,\n",
       "  'capacidade_carga_adm': 75.03170454323623}]"
      ]
     },
     "execution_count": 14,
     "metadata": {},
     "output_type": "execute_result"
    }
   ],
   "source": [
    "from calculus_core.main import calcular_capacidade_estaca\n",
    "\n",
    "calcular_capacidade_estaca(\n",
    "    decort_quaresma_1978_revisado,\n",
    "    perfil_spt,\n",
    "    tipo_estaca='escavada',\n",
    "    processo_construcao='escavada',\n",
    "    formato='circular',\n",
    "    secao_transversal=0.25,\n",
    ")"
   ]
  }
 ],
 "metadata": {
  "kernelspec": {
   "display_name": "calculus-core",
   "language": "python",
   "name": "python3"
  },
  "language_info": {
   "codemirror_mode": {
    "name": "ipython",
    "version": 3
   },
   "file_extension": ".py",
   "mimetype": "text/x-python",
   "name": "python",
   "nbconvert_exporter": "python",
   "pygments_lexer": "ipython3",
   "version": "3.13.1"
  }
 },
 "nbformat": 4,
 "nbformat_minor": 5
}
