{
 "cells": [
  {
   "cell_type": "code",
   "execution_count": null,
   "id": "a1295455",
   "metadata": {},
   "outputs": [],
   "source": [
    "from calculus_core.aoki_velloso import (\n",
    "    aoki_velloso_1975,\n",
    "    aoki_velloso_1975_laprovitera_1988,\n",
    ")\n",
    "from calculus_core.decourt_quaresma import decort_quaresma_1978_revisado\n",
    "from calculus_core.main import calcular_capacidade_estaca\n",
    "from calculus_core.models import Estaca, PerfilSPT\n",
    "\n",
    "estaca = Estaca(\n",
    "    tipo='escavada',\n",
    "    processo_construcao='escavada',\n",
    "    formato='quadrada',\n",
    "    secao_transversal=0.25,\n",
    "    comprimento=5.0,\n",
    ")\n",
    "\n",
    "perfil_spt = PerfilSPT(nome_sondagem='Schulze_Tami', confiavel=True)\n",
    "\n",
    "camadas = [\n",
    "    (1, 3, 'argila_siltosa'),\n",
    "    (2, 3, 'argila_siltosa'),\n",
    "    (3, 6, 'argila_siltosa'),\n",
    "    (4, 6, 'argila_siltosa'),\n",
    "    (5, 6, 'argila_siltosa'),\n",
    "    (6, 6, 'argila_siltosa'),\n",
    "    (7, 6, 'argila_siltosa'),\n",
    "    (8, 6, 'argila_siltosa'),\n",
    "    (9, 20, 'silte_argilo_arenoso'),\n",
    "]\n",
    "\n",
    "perfil_spt.adicionar_medidas(camadas)"
   ]
  },
  {
   "cell_type": "code",
   "execution_count": 7,
   "id": "68282ddf",
   "metadata": {},
   "outputs": [
    {
     "data": {
      "text/plain": [
       "0.7853981633974483"
      ]
     },
     "execution_count": 7,
     "metadata": {},
     "output_type": "execute_result"
    }
   ],
   "source": [
    "estaca.perimetro()"
   ]
  },
  {
   "cell_type": "code",
   "execution_count": 2,
   "id": "afeaf1b5",
   "metadata": {},
   "outputs": [
    {
     "name": "stdout",
     "output_type": "stream",
     "text": [
      "{'resistencia_ponta': 21.59844949342983, 'resistencia_lateral': 6.911503837897545, 'resistencia_lateral_total': 27.64601535159018, 'capacidade_total': 49.244464845020005}\n"
     ]
    }
   ],
   "source": [
    "resultado_aoki_velloso_1975 = aoki_velloso_1975.calcular(\n",
    "    perfil_spt=perfil_spt, estaca=estaca\n",
    ")\n",
    "print(resultado_aoki_velloso_1975)"
   ]
  },
  {
   "cell_type": "code",
   "execution_count": 5,
   "id": "ea7c1a2a",
   "metadata": {},
   "outputs": [
    {
     "data": {
      "text/plain": [
       "[{'cota': 1,\n",
       "  'resistencia_ponta': 10.799224746714915,\n",
       "  'resistencia_lateral': 3.4557519189487724,\n",
       "  'resistencia_lateral_total': 3.4557519189487724,\n",
       "  'capacidade_total': 14.254976665663687},\n",
       " {'cota': 2,\n",
       "  'resistencia_ponta': 10.799224746714915,\n",
       "  'resistencia_lateral': 3.4557519189487724,\n",
       "  'resistencia_lateral_total': 6.911503837897545,\n",
       "  'capacidade_total': 17.71072858461246},\n",
       " {'cota': 3,\n",
       "  'resistencia_ponta': 21.59844949342983,\n",
       "  'resistencia_lateral': 6.911503837897545,\n",
       "  'resistencia_lateral_total': 13.82300767579509,\n",
       "  'capacidade_total': 35.42145716922492},\n",
       " {'cota': 4,\n",
       "  'resistencia_ponta': 21.59844949342983,\n",
       "  'resistencia_lateral': 6.911503837897545,\n",
       "  'resistencia_lateral_total': 20.734511513692635,\n",
       "  'capacidade_total': 42.332961007122464},\n",
       " {'cota': 5,\n",
       "  'resistencia_ponta': 21.59844949342983,\n",
       "  'resistencia_lateral': 6.911503837897545,\n",
       "  'resistencia_lateral_total': 27.64601535159018,\n",
       "  'capacidade_total': 49.244464845020005},\n",
       " {'cota': 6,\n",
       "  'resistencia_ponta': 21.59844949342983,\n",
       "  'resistencia_lateral': 6.911503837897545,\n",
       "  'resistencia_lateral_total': 34.55751918948772,\n",
       "  'capacidade_total': 56.155968682917546},\n",
       " {'cota': 7,\n",
       "  'resistencia_ponta': 21.59844949342983,\n",
       "  'resistencia_lateral': 6.911503837897545,\n",
       "  'resistencia_lateral_total': 41.46902302738526,\n",
       "  'capacidade_total': 63.06747252081509},\n",
       " {'cota': 8,\n",
       "  'resistencia_ponta': 21.59844949342983,\n",
       "  'resistencia_lateral': 6.911503837897545,\n",
       "  'resistencia_lateral_total': 48.3805268652828,\n",
       "  'capacidade_total': 69.97897635871263},\n",
       " {'cota': 9,\n",
       "  'resistencia_ponta': 81.8123086872342,\n",
       "  'resistencia_lateral': 19.634954084936208,\n",
       "  'resistencia_lateral_total': 68.01548095021901,\n",
       "  'capacidade_total': 149.8277896374532}]"
      ]
     },
     "execution_count": 5,
     "metadata": {},
     "output_type": "execute_result"
    }
   ],
   "source": [
    "calcular_capacidade_estaca(\n",
    "    aoki_velloso_1975,\n",
    "    perfil_spt,\n",
    "    tipo_estaca='escavada',\n",
    "    processo_construcao='escavada',\n",
    "    formato='circular',\n",
    "    secao_transversal=0.25,\n",
    ")"
   ]
  },
  {
   "cell_type": "code",
   "execution_count": null,
   "id": "9ea02149",
   "metadata": {},
   "outputs": [
    {
     "name": "stdout",
     "output_type": "stream",
     "text": [
      "{'resistencia_ponta': 16.36246173744684, 'resistencia_lateral': 14.398966328953216, 'resistencia_lateral_total': 57.595865315812866, 'capacidade_total': 73.95832705325971}\n"
     ]
    }
   ],
   "source": [
    "resultado_aoki_velloso_1975_laprovitera_1988 = (\n",
    "    aoki_velloso_1975_laprovitera_1988.calcular(\n",
    "        perfil_spt=perfil_spt, estaca=estaca\n",
    "    )\n",
    ")\n",
    "print(resultado_aoki_velloso_1975_laprovitera_1988)"
   ]
  },
  {
   "cell_type": "code",
   "execution_count": null,
   "id": "9cd330a9",
   "metadata": {},
   "outputs": [
    {
     "name": "stdout",
     "output_type": "stream",
     "text": [
      "{'resistencia_ponta': 25.034566458293664, 'resistencia_lateral': 73.30382858376183, 'resistencia_lateral_total': 73.30382858376183, 'capacidade_total': 98.3383950420555}\n"
     ]
    }
   ],
   "source": [
    "resultado_decourt_quaresma_1978_revisado = (\n",
    "    decort_quaresma_1978_revisado.calcular(\n",
    "        perfil_spt=perfil_spt, estaca=estaca\n",
    "    )\n",
    ")\n",
    "print(resultado_decourt_quaresma_1978_revisado)"
   ]
  }
 ],
 "metadata": {
  "kernelspec": {
   "display_name": "calculus-core",
   "language": "python",
   "name": "python3"
  },
  "language_info": {
   "codemirror_mode": {
    "name": "ipython",
    "version": 3
   },
   "file_extension": ".py",
   "mimetype": "text/x-python",
   "name": "python",
   "nbconvert_exporter": "python",
   "pygments_lexer": "ipython3",
   "version": "3.13.1"
  }
 },
 "nbformat": 4,
 "nbformat_minor": 5
}
