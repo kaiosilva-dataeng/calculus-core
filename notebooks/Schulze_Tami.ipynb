{
 "cells": [
  {
   "cell_type": "code",
   "execution_count": 1,
   "id": "a1295455",
   "metadata": {},
   "outputs": [],
   "source": [
    "from calculus_core.aoki_velloso import (\n",
    "    aoki_velloso_1975,\n",
    "    aoki_velloso_1975_laprovitera_1988,\n",
    ")\n",
    "from calculus_core.decourt_quaresma import decort_quaresma_1978_revisado\n",
    "from calculus_core.main import calcular_capacidade_estaca\n",
    "from calculus_core.models import Estaca, PerfilSPT\n",
    "\n",
    "estaca = Estaca(\n",
    "    tipo='escavada',\n",
    "    processo_construcao='escavada',\n",
    "    formato='circular',\n",
    "    secao_transversal=0.25,\n",
    "    cota_assentamento=5.0,\n",
    ")\n",
    "\n",
    "perfil_spt = PerfilSPT(nome_sondagem='Schulze_Tami', confiavel=True)\n",
    "\n",
    "camadas = [\n",
    "    (1, 3, 'argila_siltosa'),\n",
    "    (2, 3, 'argila_siltosa'),\n",
    "    (3, 6, 'argila_siltosa'),\n",
    "    (4, 6, 'argila_siltosa'),\n",
    "    (5, 6, 'argila_siltosa'),\n",
    "    (6, 6, 'argila_siltosa'),\n",
    "    (7, 6, 'argila_siltosa'),\n",
    "    (8, 6, 'argila_siltosa'),\n",
    "    (9, 20, 'silte_argilo_arenoso'),\n",
    "]\n",
    "\n",
    "perfil_spt.adicionar_medidas(camadas)"
   ]
  },
  {
   "cell_type": "code",
   "execution_count": 2,
   "id": "afeaf1b5",
   "metadata": {},
   "outputs": [
    {
     "name": "stdout",
     "output_type": "stream",
     "text": [
      "{'resistencia_ponta': 21.59844949342983, 'resistencia_lateral': 6.911503837897545, 'resistencia_lateral_total': 24.190263432641405, 'capacidade_total': 45.788712926071234}\n"
     ]
    }
   ],
   "source": [
    "resultado_aoki_velloso_1975 = aoki_velloso_1975.calcular(\n",
    "    perfil_spt=perfil_spt, estaca=estaca\n",
    ")\n",
    "print(resultado_aoki_velloso_1975)"
   ]
  },
  {
   "cell_type": "code",
   "execution_count": 3,
   "id": "ea7c1a2a",
   "metadata": {},
   "outputs": [
    {
     "data": {
      "text/plain": [
       "[{'cota': 1,\n",
       "  'resistencia_ponta': 10.799224746714915,\n",
       "  'resistencia_lateral': 0,\n",
       "  'resistencia_lateral_total': 0,\n",
       "  'capacidade_total': 10.799224746714915},\n",
       " {'cota': 2,\n",
       "  'resistencia_ponta': 10.799224746714915,\n",
       "  'resistencia_lateral': 3.4557519189487724,\n",
       "  'resistencia_lateral_total': 3.4557519189487724,\n",
       "  'capacidade_total': 14.254976665663687},\n",
       " {'cota': 3,\n",
       "  'resistencia_ponta': 21.59844949342983,\n",
       "  'resistencia_lateral': 6.911503837897545,\n",
       "  'resistencia_lateral_total': 10.367255756846317,\n",
       "  'capacidade_total': 31.965705250276145},\n",
       " {'cota': 4,\n",
       "  'resistencia_ponta': 21.59844949342983,\n",
       "  'resistencia_lateral': 6.911503837897545,\n",
       "  'resistencia_lateral_total': 17.27875959474386,\n",
       "  'capacidade_total': 38.877209088173686},\n",
       " {'cota': 5,\n",
       "  'resistencia_ponta': 21.59844949342983,\n",
       "  'resistencia_lateral': 6.911503837897545,\n",
       "  'resistencia_lateral_total': 24.190263432641405,\n",
       "  'capacidade_total': 45.788712926071234},\n",
       " {'cota': 6,\n",
       "  'resistencia_ponta': 21.59844949342983,\n",
       "  'resistencia_lateral': 6.911503837897545,\n",
       "  'resistencia_lateral_total': 31.10176727053895,\n",
       "  'capacidade_total': 52.70021676396878},\n",
       " {'cota': 7,\n",
       "  'resistencia_ponta': 21.59844949342983,\n",
       "  'resistencia_lateral': 6.911503837897545,\n",
       "  'resistencia_lateral_total': 38.0132711084365,\n",
       "  'capacidade_total': 59.611720601866324},\n",
       " {'cota': 8,\n",
       "  'resistencia_ponta': 21.59844949342983,\n",
       "  'resistencia_lateral': 6.911503837897545,\n",
       "  'resistencia_lateral_total': 44.92477494633404,\n",
       "  'capacidade_total': 66.52322443976387},\n",
       " {'cota': 9,\n",
       "  'resistencia_ponta': 81.8123086872342,\n",
       "  'resistencia_lateral': 19.634954084936208,\n",
       "  'resistencia_lateral_total': 64.55972903127025,\n",
       "  'capacidade_total': 146.37203771850443}]"
      ]
     },
     "execution_count": 3,
     "metadata": {},
     "output_type": "execute_result"
    }
   ],
   "source": [
    "calcular_capacidade_estaca(\n",
    "    aoki_velloso_1975,\n",
    "    perfil_spt,\n",
    "    tipo_estaca='escavada',\n",
    "    processo_construcao='escavada',\n",
    "    formato='circular',\n",
    "    secao_transversal=0.25,\n",
    ")"
   ]
  },
  {
   "cell_type": "code",
   "execution_count": 4,
   "id": "9ea02149",
   "metadata": {},
   "outputs": [
    {
     "name": "stdout",
     "output_type": "stream",
     "text": [
      "{'resistencia_ponta': 16.36246173744684, 'resistencia_lateral': 14.398966328953216, 'resistencia_lateral_total': 50.396382151336255, 'capacidade_total': 66.75884388878309}\n"
     ]
    }
   ],
   "source": [
    "resultado_aoki_velloso_1975_laprovitera_1988 = (\n",
    "    aoki_velloso_1975_laprovitera_1988.calcular(\n",
    "        perfil_spt=perfil_spt, estaca=estaca\n",
    "    )\n",
    ")\n",
    "print(resultado_aoki_velloso_1975_laprovitera_1988)"
   ]
  },
  {
   "cell_type": "code",
   "execution_count": 5,
   "id": "9cd330a9",
   "metadata": {},
   "outputs": [
    {
     "name": "stdout",
     "output_type": "stream",
     "text": [
      "{'resistencia_ponta': 25.034566458293664, 'resistencia_lateral': 58.64306286700946, 'resistencia_lateral_total': 58.64306286700946, 'capacidade_total': 83.67762932530313}\n"
     ]
    }
   ],
   "source": [
    "resultado_decourt_quaresma_1978_revisado = (\n",
    "    decort_quaresma_1978_revisado.calcular(\n",
    "        perfil_spt=perfil_spt, estaca=estaca\n",
    "    )\n",
    ")\n",
    "print(resultado_decourt_quaresma_1978_revisado)"
   ]
  },
  {
   "cell_type": "code",
   "execution_count": 6,
   "id": "7d5e4a9f",
   "metadata": {},
   "outputs": [
    {
     "data": {
      "text/plain": [
       "[{'cota': 1,\n",
       "  'resistencia_ponta': 12.517283229146832,\n",
       "  'resistencia_lateral': 0.0,\n",
       "  'resistencia_lateral_total': 0.0,\n",
       "  'capacidade_total': 12.517283229146832},\n",
       " {'cota': 2,\n",
       "  'resistencia_ponta': 16.689710972195776,\n",
       "  'resistencia_lateral': 6.283185307179586,\n",
       "  'resistencia_lateral_total': 6.283185307179586,\n",
       "  'capacidade_total': 22.972896279375362},\n",
       " {'cota': 3,\n",
       "  'resistencia_ponta': 20.86213871524472,\n",
       "  'resistencia_lateral': 25.132741228718345,\n",
       "  'resistencia_lateral_total': 25.132741228718345,\n",
       "  'capacidade_total': 45.99487994396306},\n",
       " {'cota': 4,\n",
       "  'resistencia_ponta': 25.034566458293664,\n",
       "  'resistencia_lateral': 37.69911184307752,\n",
       "  'resistencia_lateral_total': 37.69911184307752,\n",
       "  'capacidade_total': 62.733678301371185},\n",
       " {'cota': 5,\n",
       "  'resistencia_ponta': 25.034566458293664,\n",
       "  'resistencia_lateral': 58.64306286700946,\n",
       "  'resistencia_lateral_total': 58.64306286700946,\n",
       "  'capacidade_total': 83.67762932530313},\n",
       " {'cota': 6,\n",
       "  'resistencia_ponta': 25.034566458293664,\n",
       "  'resistencia_lateral': 78.53981633974483,\n",
       "  'resistencia_lateral_total': 78.53981633974483,\n",
       "  'capacidade_total': 103.5743827980385},\n",
       " {'cota': 7,\n",
       "  'resistencia_ponta': 25.034566458293664,\n",
       "  'resistencia_lateral': 98.01769079200153,\n",
       "  'resistencia_lateral_total': 98.01769079200153,\n",
       "  'capacidade_total': 123.0522572502952},\n",
       " {'cota': 8,\n",
       "  'resistencia_ponta': 44.5058959258554,\n",
       "  'resistencia_lateral': 117.28612573401895,\n",
       "  'resistencia_lateral_total': 117.28612573401895,\n",
       "  'capacidade_total': 161.79202165987437},\n",
       " {'cota': 9,\n",
       "  'resistencia_ponta': 89.5353906273091,\n",
       "  'resistencia_lateral': 110.85334077666842,\n",
       "  'resistencia_lateral_total': 110.85334077666842,\n",
       "  'capacidade_total': 200.38873140397752}]"
      ]
     },
     "execution_count": 6,
     "metadata": {},
     "output_type": "execute_result"
    }
   ],
   "source": [
    "calcular_capacidade_estaca(\n",
    "    decort_quaresma_1978_revisado,\n",
    "    perfil_spt,\n",
    "    tipo_estaca='escavada',\n",
    "    processo_construcao='escavada',\n",
    "    formato='circular',\n",
    "    secao_transversal=0.25,\n",
    ")"
   ]
  }
 ],
 "metadata": {
  "kernelspec": {
   "display_name": "calculus-core",
   "language": "python",
   "name": "python3"
  },
  "language_info": {
   "codemirror_mode": {
    "name": "ipython",
    "version": 3
   },
   "file_extension": ".py",
   "mimetype": "text/x-python",
   "name": "python",
   "nbconvert_exporter": "python",
   "pygments_lexer": "ipython3",
   "version": "3.13.1"
  }
 },
 "nbformat": 4,
 "nbformat_minor": 5
}
